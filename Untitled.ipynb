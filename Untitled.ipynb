{
 "cells": [
  {
   "cell_type": "markdown",
   "id": "97145408-2dda-4117-8363-4991330f5beb",
   "metadata": {},
   "source": [
    "installation instructions\n",
    "\n",
    "https://docs.manim.community/en/stable/installation/linux.html\n",
    "\n",
    "quick start\n",
    "\n",
    "https://docs.manim.community/en/stable/tutorials/quickstart.html\n",
    "\n",
    "how to run cells in jupyter\n",
    "\n",
    "https://docs.manim.community/en/stable/installation/jupyter.html"
   ]
  },
  {
   "cell_type": "code",
   "execution_count": null,
   "id": "49d4ffa9-189f-406b-965c-53231e698641",
   "metadata": {},
   "outputs": [],
   "source": []
  },
  {
   "cell_type": "code",
   "execution_count": 4,
   "id": "a959ac2b-a80f-4ce0-b8af-cdb41fcddb92",
   "metadata": {},
   "outputs": [
    {
     "name": "stderr",
     "output_type": "stream",
     "text": [
      "                                                                                                                                                                                                            \r"
     ]
    },
    {
     "data": {
      "text/html": [
       "<video src=\"media/jupyter/CreateCircle@2024-02-01@16-55-36.mp4\" controls autoplay loop style=\"max-width: 60%;\"  >\n",
       "      Your browser does not support the <code>video</code> element.\n",
       "    </video>"
      ],
      "text/plain": [
       "<IPython.core.display.Video object>"
      ]
     },
     "metadata": {},
     "output_type": "display_data"
    }
   ],
   "source": [
    "%%manim -qm -v WARNING CreateCircle\n",
    "from manim import *\n",
    "\n",
    "class CreateCircle(Scene):\n",
    "    def construct(self):\n",
    "        circle = Circle()  # create a circle\n",
    "        circle.set_fill(PINK, opacity=0.5)  # set the color and transparency\n",
    "        self.play(Create(circle))  # show the circle on screen"
   ]
  },
  {
   "cell_type": "code",
   "execution_count": null,
   "id": "bf3dd942-99f2-4e40-a3e3-e854b944ae91",
   "metadata": {},
   "outputs": [],
   "source": []
  }
 ],
 "metadata": {
  "kernelspec": {
   "display_name": "Python 3 (ipykernel)",
   "language": "python",
   "name": "python3"
  },
  "language_info": {
   "codemirror_mode": {
    "name": "ipython",
    "version": 3
   },
   "file_extension": ".py",
   "mimetype": "text/x-python",
   "name": "python",
   "nbconvert_exporter": "python",
   "pygments_lexer": "ipython3",
   "version": "3.10.13"
  }
 },
 "nbformat": 4,
 "nbformat_minor": 5
}
